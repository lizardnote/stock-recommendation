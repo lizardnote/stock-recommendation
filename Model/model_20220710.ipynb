{
  "nbformat": 4,
  "nbformat_minor": 0,
  "metadata": {
    "colab": {
      "name": "model_20220710.ipynb",
      "provenance": [],
      "collapsed_sections": []
    },
    "kernelspec": {
      "name": "python3",
      "display_name": "Python 3"
    },
    "language_info": {
      "name": "python"
    }
  },
  "cells": [
    {
      "cell_type": "code",
      "execution_count": null,
      "metadata": {
        "id": "u1Orz1yVBnCV"
      },
      "outputs": [],
      "source": [
        "import pandas as pd\n",
        "import random"
      ]
    },
    {
      "cell_type": "code",
      "source": [
        "origin_dataset = pd.read_excel('/content/total_data.xlsx')"
      ],
      "metadata": {
        "id": "7th6BahBB4Hv"
      },
      "execution_count": 68,
      "outputs": []
    },
    {
      "cell_type": "code",
      "source": [
        "origin_dataset"
      ],
      "metadata": {
        "id": "CRAS8JMFCJrn"
      },
      "execution_count": null,
      "outputs": []
    },
    {
      "cell_type": "code",
      "source": [
        "## 임의로 고객 정보 생성; 보유 주식 종목, 희망 종가 상한\n",
        "numlist = list(range(0, len(origin_dataset), 5))\n",
        "sample_numlist = random.sample(numlist, random.randint(1, 10))\n",
        "sample_list = []\n",
        "for num in sample_numlist:\n",
        "  for j in range(5):\n",
        "    sample_list.append(num+j)\n",
        "consumer_data = origin_dataset.iloc[sample_list] ##임의로 지정\n",
        "\n",
        "consumer_price = random.randint(min(origin_dataset['종가']), max(origin_dataset['종가'])) ##임의로 지정"
      ],
      "metadata": {
        "id": "N--YckA-Am91"
      },
      "execution_count": 70,
      "outputs": []
    },
    {
      "cell_type": "code",
      "source": [
        "consumer_data"
      ],
      "metadata": {
        "id": "Uh_ae9mCC5rn"
      },
      "execution_count": null,
      "outputs": []
    },
    {
      "cell_type": "code",
      "source": [
        "consumer_price"
      ],
      "metadata": {
        "id": "srR9IMTuDpQK"
      },
      "execution_count": null,
      "outputs": []
    },
    {
      "cell_type": "code",
      "source": [
        "## 고객 보유 주식을 제외한 나머지 주식 정보\n",
        "dataset = pd.merge(consumer_data, origin_dataset, how = 'outer', indicator = True).query('_merge == \"right_only\"').drop(columns=['_merge'])"
      ],
      "metadata": {
        "id": "gbUukj8wY-qo"
      },
      "execution_count": 72,
      "outputs": []
    },
    {
      "cell_type": "code",
      "source": [
        "dataset"
      ],
      "metadata": {
        "id": "DfL0WyP0Zy1q"
      },
      "execution_count": null,
      "outputs": []
    },
    {
      "cell_type": "code",
      "source": [
        "## 유사도 계산 알고리즘 (필터링 방식)\n",
        "recommend_data = pd.DataFrame()\n",
        "show_data = pd.DataFrame()\n",
        "\n",
        "for i in range(len(consumer_data)//5):\n",
        "  for k in range(len(dataset)//5):\n",
        "    count = 0\n",
        "    ## 업종 (같은 분야의 주식 종목만 필터링)\n",
        "    if consumer_data.iloc[5*i]['업종명'] == dataset.iloc[5*k]['업종명']:\n",
        "\n",
        "      ## 희망 종가 (희망 종가보다 가격이 낮은 주식 종목만 필터링)\n",
        "      if consumer_price >= dataset.iloc[5*k+4]['종가']:\n",
        "\n",
        "        ##등락률 (등락률 방향이 같은 주식 종목만 필터링)\n",
        "        for l in range(5):    \n",
        "          if consumer_data.iloc[5*i+l]['등락률']*dataset.iloc[5*k+l]['등락률'] > 0: \n",
        "            count += 1\n",
        "      \n",
        "        if count == 5:\n",
        "          recommend_data = pd.concat([recommend_data, dataset.iloc[[5*k, 5*k+1, 5*k+2, 5*k+3, 5*k+4]]])\n",
        "          show_data = pd.concat([show_data, dataset.iloc[5*k+4]], axis = 1)\n",
        "\n",
        "recommend_data = recommend_data.dropna()\n",
        "show_data = show_data.dropna()\n",
        "show_data = show_data.transpose()      "
      ],
      "metadata": {
        "id": "gWMfnqX9H-Rl"
      },
      "execution_count": 73,
      "outputs": []
    },
    {
      "cell_type": "code",
      "source": [
        "## 결과 제시 (종목명만 제시 / 마지막 날 정보만 제시 / 전체 정보 제시)\n",
        "result_method = int(input('1:종목명만 제시, 2:마지막 날 정보만 제시, 3:전체 정보 제시 : '))\n",
        "try:\n",
        "  if result_method == 1:\n",
        "    print(show_data['종목명'].tolist())\n",
        "  elif result_method == 2:\n",
        "    print(show_data)\n",
        "  elif result_method == 3:\n",
        "    print(recommend_data)\n",
        "  \n",
        "except:\n",
        "  print('no recommend')"
      ],
      "metadata": {
        "id": "g_I16RcjFMJ2"
      },
      "execution_count": null,
      "outputs": []
    }
  ]
}